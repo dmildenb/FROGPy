{
 "cells": [
  {
   "cell_type": "code",
   "execution_count": 1,
   "metadata": {
    "collapsed": false,
    "scrolled": false
   },
   "outputs": [
    {
     "name": "stderr",
     "output_type": "stream",
     "text": [
      "C:\\Users\\Hegmann\\Documents\\Daniel\\Ipython Notebooks\\FROG Code\\FROG_lib.py:32: RuntimeWarning: invalid value encountered in true_divide\n",
      "  Ew /= np.absolute(Ew)\n"
     ]
    },
    {
     "name": "stdout",
     "output_type": "stream",
     "text": [
      "\n",
      "*** Profile printout saved to text file 'line_profiling.txt'. \n",
      "Timer unit: 6.40021e-07 s\n",
      "\n",
      "Total time: 2.4066 s\n",
      "File: C:\\Users\\Hegmann\\Documents\\Daniel\\Ipython Notebooks\\FROG Code\\Run.py\n",
      "Function: FROG_Loop at line 40\n",
      "\n",
      "Line #      Hits         Time  Per Hit   % Time  Line Contents\n",
      "==============================================================\n",
      "    40                                           def FROG_Loop(IFROG, Pulse=[], Gate=[], max_iter=100, G_min=10**-5):\n",
      "    41                                               \n",
      "    42                                               ## Initialization\n",
      "    43         1           13     13.0      0.0      current = int(0) # Current iteration\n",
      "    44         1           50     50.0      0.0      G = np.zeros(max_iter) # Preallocates FROG error as a function of iteration\n",
      "    45         1           18     18.0      0.0      G_best = float(\"inf\") # Sets current best FROG error to infinity\n",
      "    46         1            5      5.0      0.0      PCGP_Power = 1 # Sets the matrix power to apply in the PCGP algorithm\n",
      "    47                                                   \n",
      "    48         1          248    248.0      0.0      Best_Trace_w = np.zeros(IFROG.shape, dtype=complex) # Preallocates for best retrieved trace\n",
      "    49         1           35     35.0      0.0      Best_Pulse = np.zeros(IFROG.shape[0], dtype=complex) # Preallocates for best retrieved Probe vector\n",
      "    50         1           28     28.0      0.0      Best_Gate = np.zeros(IFROG.shape[0], dtype=complex) # Preallocates for best retrieved Gate vector\n",
      "    51                                               \n",
      "    52                                               # Generates a complex vector with random phase and amplitude for use as the \"random vector\"\n",
      "    53         1            8      8.0      0.0      if Pulse == []:\n",
      "    54         1          899    899.0      0.0          Pulse = lib.Gaussian(lib.Gauss_Axis(IFROG.shape[0]), IFROG.shape[0]//3) * np.exp(1j * \\\n",
      "    55         1          501    501.0      0.0                          (np.random.rand(IFROG.shape[0]) - 0.5) * np.pi)\n",
      "    56         1           14     14.0      0.0      if Gate == []:\n",
      "    57         1          395    395.0      0.0          Gate = lib.Gaussian(lib.Gauss_Axis(IFROG.shape[0]), IFROG.shape[0]//3) * np.exp(1j * \\\n",
      "    58         1          148    148.0      0.0                          (np.random.rand(IFROG.shape[0]) - 0.5) * np.pi)\n",
      "    59                                                   \n",
      "    60         1         2137   2137.0      0.1      Shift_idx = lib.OP_Shift_Calc(IFROG.shape)\n",
      "    61                                                   \n",
      "    62         1         4567   4567.0      0.1      Trace_w = lib.FROG_fft(np.take(lib.FieldTrace_SHG2(Pulse, Gate), Shift_idx)) # Generates the initial guess trace\n",
      "    63                                               \n",
      "    64                                               ## FROG Loop\n",
      "    65                                           \n",
      "    66                                               # Loop runs until max iteration number or target error is reached.\n",
      "    67       101         3548     35.1      0.1      while (current < max_iter) & (G_best > G_min):\n",
      "    68                                                   # Project measured magnitude onto current trace\n",
      "    69       100       655680   6556.8     17.4          Trace_w = lib.ProjI(Trace_w, IFROG, current, max_iter)\n",
      "    70                                              \n",
      "    71                                                   # Inverse Fourier transform and shift trace to time domain\n",
      "    72       100       224705   2247.1      6.0          Trace_t = lib.FROG_ifft(Trace_w)\n",
      "    73                                              \n",
      "    74                                                   # Apply pseudo SVD power method to inverse-shifted trace to recover probe and gate vectors\n",
      "    75       100      2226743  22267.4     59.2          Pulse, Gate = lib.PCGP_FROG(np.take(Trace_t, Shift_idx), Pulse, Gate, PCGP_Power)\n",
      "    76                                           \t\t\n",
      "    77                                                   # Reconstruct and shift the time domain trace from the probe and gate vectors\n",
      "    78       100       161549   1615.5      4.3          Trace_t = np.take(lib.FieldTrace_SHG2(Pulse, Gate), Shift_idx)\n",
      "    79                                               \n",
      "    80                                                   # Fourier transform and shift trace to frequency domain\n",
      "    81       100       181756   1817.6      4.8          Trace_w = lib.FROG_fft(Trace_t)\n",
      "    82                                               \n",
      "    83                                                   # Calculate FROG error of current trace\n",
      "    84       100       292228   2922.3      7.8          G[current] = lib.Gerrshg(Trace_w, IFROG)\n",
      "    85                                               \n",
      "    86                                                   # Keep track of best retrieved error, trace, probe and gate\n",
      "    87       100         2148     21.5      0.1          if G[current] < G_best:\n",
      "    88         3           25      8.3      0.0              G_best = G[current]\n",
      "    89         3           58     19.3      0.0              Best_Trace_w = Trace_w[:,:]\n",
      "    90         3           41     13.7      0.0              Best_Pulse = Pulse[:]\n",
      "    91         3           34     11.3      0.0              Best_Gate = Gate[:]\n",
      "    92                                               \n",
      "    93       100          787      7.9      0.0          current += 1\n",
      "    94                                                   \n",
      "    95         1         1803   1803.0      0.0      Best_Trace_w /= np.amax(np.absolute(Best_Trace_w))\n",
      "    96                                               \n",
      "    97         1           15     15.0      0.0      return Best_Trace_w, Best_Pulse, Best_Gate, G\n"
     ]
    }
   ],
   "source": [
    "%load_ext line_profiler\n",
    "\n",
    "import numpy as np\n",
    "import Run\n",
    "\n",
    "IFROG = np.genfromtxt('test_bin128.csv',dtype=complex,delimiter=',')\n",
    "IFROG = IFROG / np.amax(IFROG)\n",
    "\n",
    "%lprun -s -f Run.FROG_Loop -T line_profiling.txt Run.FROG_Loop(IFROG)\n",
    "!cat line_profiling.txt"
   ]
  }
 ],
 "metadata": {
  "anaconda-cloud": {},
  "kernelspec": {
   "display_name": "Python [Root]",
   "language": "python",
   "name": "Python [Root]"
  },
  "language_info": {
   "codemirror_mode": {
    "name": "ipython",
    "version": 3
   },
   "file_extension": ".py",
   "mimetype": "text/x-python",
   "name": "python",
   "nbconvert_exporter": "python",
   "pygments_lexer": "ipython3",
   "version": "3.5.2"
  }
 },
 "nbformat": 4,
 "nbformat_minor": 0
}
